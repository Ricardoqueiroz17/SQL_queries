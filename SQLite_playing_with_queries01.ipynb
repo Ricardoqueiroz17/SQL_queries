{
 "cells": [
  {
   "cell_type": "code",
   "execution_count": 1,
   "id": "a5e39aa4-d4de-4716-b6a8-333ce4477cfa",
   "metadata": {},
   "outputs": [],
   "source": [
    "# Importing the libraries\n",
    "import sqlite3\n",
    "import random"
   ]
  },
  {
   "cell_type": "code",
   "execution_count": 2,
   "id": "c19a5d0b-c81d-4778-b79b-0fc9cb4da053",
   "metadata": {},
   "outputs": [],
   "source": [
    "%load_ext sql"
   ]
  },
  {
   "cell_type": "markdown",
   "id": "16339522-6c43-4eef-963a-29f25fde446d",
   "metadata": {},
   "source": [
    "# Connecting to the database"
   ]
  },
  {
   "cell_type": "code",
   "execution_count": 3,
   "id": "45ba8629-b85e-4b66-bd3e-ed41ff88d342",
   "metadata": {},
   "outputs": [],
   "source": [
    "# Connecting to a sqlite database\n",
    "%sql sqlite:///lab3.db "
   ]
  },
  {
   "cell_type": "code",
   "execution_count": 4,
   "id": "711c8feb-3abd-4c59-951b-05fb7e3c5709",
   "metadata": {},
   "outputs": [
    {
     "name": "stdout",
     "output_type": "stream",
     "text": [
      " * sqlite:///lab3.db\n",
      "Done.\n"
     ]
    },
    {
     "data": {
      "text/html": [
       "<table>\n",
       "    <tr>\n",
       "        <th>SId</th>\n",
       "        <th>Sname</th>\n",
       "        <th>Sage</th>\n",
       "        <th>Sgender</th>\n",
       "    </tr>\n",
       "    <tr>\n",
       "        <td>01</td>\n",
       "        <td>Peter</td>\n",
       "        <td>1990-01-01</td>\n",
       "        <td>M</td>\n",
       "    </tr>\n",
       "    <tr>\n",
       "        <td>02</td>\n",
       "        <td>Sam</td>\n",
       "        <td>1990-12-21</td>\n",
       "        <td>M</td>\n",
       "    </tr>\n",
       "    <tr>\n",
       "        <td>03</td>\n",
       "        <td>Lee</td>\n",
       "        <td>1990-05-20</td>\n",
       "        <td>M</td>\n",
       "    </tr>\n",
       "    <tr>\n",
       "        <td>04</td>\n",
       "        <td>June</td>\n",
       "        <td>1990-08-06</td>\n",
       "        <td>M</td>\n",
       "    </tr>\n",
       "    <tr>\n",
       "        <td>05</td>\n",
       "        <td>Eda</td>\n",
       "        <td>1991-12-01</td>\n",
       "        <td>F</td>\n",
       "    </tr>\n",
       "    <tr>\n",
       "        <td>06</td>\n",
       "        <td>Eloise</td>\n",
       "        <td>1992-03-01</td>\n",
       "        <td>F</td>\n",
       "    </tr>\n",
       "    <tr>\n",
       "        <td>07</td>\n",
       "        <td>Silas</td>\n",
       "        <td>1989-07-01</td>\n",
       "        <td>F</td>\n",
       "    </tr>\n",
       "    <tr>\n",
       "        <td>09</td>\n",
       "        <td>Hazel</td>\n",
       "        <td>2001-12-20</td>\n",
       "        <td>F</td>\n",
       "    </tr>\n",
       "    <tr>\n",
       "        <td>10</td>\n",
       "        <td>Oscar</td>\n",
       "        <td>2002-12-25</td>\n",
       "        <td>F</td>\n",
       "    </tr>\n",
       "    <tr>\n",
       "        <td>11</td>\n",
       "        <td>Oscar</td>\n",
       "        <td>2002-12-30</td>\n",
       "        <td>F</td>\n",
       "    </tr>\n",
       "    <tr>\n",
       "        <td>12</td>\n",
       "        <td>Royal</td>\n",
       "        <td>2003-01-01</td>\n",
       "        <td>F</td>\n",
       "    </tr>\n",
       "    <tr>\n",
       "        <td>13</td>\n",
       "        <td>Lucy</td>\n",
       "        <td>2002-01-01</td>\n",
       "        <td>F</td>\n",
       "    </tr>\n",
       "</table>"
      ],
      "text/plain": [
       "[('01', 'Peter', '1990-01-01', 'M'),\n",
       " ('02', 'Sam', '1990-12-21', 'M'),\n",
       " ('03', 'Lee', '1990-05-20', 'M'),\n",
       " ('04', 'June', '1990-08-06', 'M'),\n",
       " ('05', 'Eda', '1991-12-01', 'F'),\n",
       " ('06', 'Eloise', '1992-03-01', 'F'),\n",
       " ('07', 'Silas', '1989-07-01', 'F'),\n",
       " ('09', 'Hazel', '2001-12-20', 'F'),\n",
       " ('10', 'Oscar', '2002-12-25', 'F'),\n",
       " ('11', 'Oscar', '2002-12-30', 'F'),\n",
       " ('12', 'Royal', '2003-01-01', 'F'),\n",
       " ('13', 'Lucy', '2002-01-01', 'F')]"
      ]
     },
     "execution_count": 4,
     "metadata": {},
     "output_type": "execute_result"
    }
   ],
   "source": [
    "#Checking the tables\n",
    "%sql SELECT * FROM Student"
   ]
  },
  {
   "cell_type": "markdown",
   "id": "188b5baa-6d9a-4913-9be6-bbea3d281b80",
   "metadata": {},
   "source": [
    "# Q1: Find the student id that has all the grades in between 80 and 90."
   ]
  },
  {
   "cell_type": "code",
   "execution_count": 6,
   "id": "5aa4410a-e8e6-4d6c-b55d-76f42e03ff71",
   "metadata": {},
   "outputs": [
    {
     "name": "stdout",
     "output_type": "stream",
     "text": [
      " * sqlite:///lab3.db\n",
      "Done.\n"
     ]
    },
    {
     "data": {
      "text/html": [
       "<table>\n",
       "    <tr>\n",
       "        <th>SId</th>\n",
       "    </tr>\n",
       "    <tr>\n",
       "        <td>03</td>\n",
       "    </tr>\n",
       "</table>"
      ],
      "text/plain": [
       "[('03',)]"
      ]
     },
     "execution_count": 6,
     "metadata": {},
     "output_type": "execute_result"
    }
   ],
   "source": [
    "%%sql\n",
    "SELECT DISTINCT SId \n",
    "FROM Grade\n",
    "WHERE SId NOT IN\n",
    "    (SELECT SId\n",
    "    FROM Grade\n",
    "    WHERE score < 80 or score > 90\n",
    ");"
   ]
  },
  {
   "cell_type": "code",
   "execution_count": 7,
   "id": "7fd4d529-6c75-4fd2-95a2-e3f05449f88d",
   "metadata": {},
   "outputs": [
    {
     "name": "stdout",
     "output_type": "stream",
     "text": [
      " * sqlite:///lab3.db\n",
      "Done.\n"
     ]
    },
    {
     "data": {
      "text/html": [
       "<table>\n",
       "    <tr>\n",
       "        <th>SId</th>\n",
       "        <th>CId</th>\n",
       "        <th>score</th>\n",
       "    </tr>\n",
       "    <tr>\n",
       "        <td>01</td>\n",
       "        <td>01</td>\n",
       "        <td>80</td>\n",
       "    </tr>\n",
       "    <tr>\n",
       "        <td>01</td>\n",
       "        <td>02</td>\n",
       "        <td>90</td>\n",
       "    </tr>\n",
       "    <tr>\n",
       "        <td>01</td>\n",
       "        <td>03</td>\n",
       "        <td>99</td>\n",
       "    </tr>\n",
       "    <tr>\n",
       "        <td>02</td>\n",
       "        <td>01</td>\n",
       "        <td>70</td>\n",
       "    </tr>\n",
       "    <tr>\n",
       "        <td>02</td>\n",
       "        <td>02</td>\n",
       "        <td>60</td>\n",
       "    </tr>\n",
       "    <tr>\n",
       "        <td>02</td>\n",
       "        <td>03</td>\n",
       "        <td>80</td>\n",
       "    </tr>\n",
       "    <tr>\n",
       "        <td>03</td>\n",
       "        <td>01</td>\n",
       "        <td>80</td>\n",
       "    </tr>\n",
       "    <tr>\n",
       "        <td>03</td>\n",
       "        <td>02</td>\n",
       "        <td>80</td>\n",
       "    </tr>\n",
       "    <tr>\n",
       "        <td>03</td>\n",
       "        <td>03</td>\n",
       "        <td>80</td>\n",
       "    </tr>\n",
       "    <tr>\n",
       "        <td>04</td>\n",
       "        <td>01</td>\n",
       "        <td>50</td>\n",
       "    </tr>\n",
       "    <tr>\n",
       "        <td>04</td>\n",
       "        <td>02</td>\n",
       "        <td>30</td>\n",
       "    </tr>\n",
       "    <tr>\n",
       "        <td>04</td>\n",
       "        <td>03</td>\n",
       "        <td>20</td>\n",
       "    </tr>\n",
       "    <tr>\n",
       "        <td>05</td>\n",
       "        <td>01</td>\n",
       "        <td>76</td>\n",
       "    </tr>\n",
       "    <tr>\n",
       "        <td>05</td>\n",
       "        <td>02</td>\n",
       "        <td>87</td>\n",
       "    </tr>\n",
       "    <tr>\n",
       "        <td>06</td>\n",
       "        <td>01</td>\n",
       "        <td>31</td>\n",
       "    </tr>\n",
       "    <tr>\n",
       "        <td>06</td>\n",
       "        <td>03</td>\n",
       "        <td>34</td>\n",
       "    </tr>\n",
       "    <tr>\n",
       "        <td>07</td>\n",
       "        <td>02</td>\n",
       "        <td>89</td>\n",
       "    </tr>\n",
       "    <tr>\n",
       "        <td>07</td>\n",
       "        <td>03</td>\n",
       "        <td>98</td>\n",
       "    </tr>\n",
       "</table>"
      ],
      "text/plain": [
       "[('01', '01', 80),\n",
       " ('01', '02', 90),\n",
       " ('01', '03', 99),\n",
       " ('02', '01', 70),\n",
       " ('02', '02', 60),\n",
       " ('02', '03', 80),\n",
       " ('03', '01', 80),\n",
       " ('03', '02', 80),\n",
       " ('03', '03', 80),\n",
       " ('04', '01', 50),\n",
       " ('04', '02', 30),\n",
       " ('04', '03', 20),\n",
       " ('05', '01', 76),\n",
       " ('05', '02', 87),\n",
       " ('06', '01', 31),\n",
       " ('06', '03', 34),\n",
       " ('07', '02', 89),\n",
       " ('07', '03', 98)]"
      ]
     },
     "execution_count": 7,
     "metadata": {},
     "output_type": "execute_result"
    }
   ],
   "source": [
    "# Checking the Grade table to see if the answer makes sense\n",
    "%sql SELECT * FROM Grade"
   ]
  },
  {
   "cell_type": "markdown",
   "id": "25b03d56-1e35-4ed5-8e8f-cd2521922522",
   "metadata": {},
   "source": [
    "# Q02: Find the students, who earned a higher grade in Calculus than his/her History class."
   ]
  },
  {
   "cell_type": "code",
   "execution_count": 8,
   "id": "458bfc49-6933-4650-8dfe-c4fb47e48ae2",
   "metadata": {},
   "outputs": [
    {
     "name": "stdout",
     "output_type": "stream",
     "text": [
      " * sqlite:///lab3.db\n",
      "Done.\n"
     ]
    },
    {
     "data": {
      "text/html": [
       "<table>\n",
       "    <tr>\n",
       "        <th>CId</th>\n",
       "        <th>Cname</th>\n",
       "        <th>PId</th>\n",
       "    </tr>\n",
       "    <tr>\n",
       "        <td>01</td>\n",
       "        <td>History</td>\n",
       "        <td>02</td>\n",
       "    </tr>\n",
       "    <tr>\n",
       "        <td>02</td>\n",
       "        <td>Calculus</td>\n",
       "        <td>01</td>\n",
       "    </tr>\n",
       "    <tr>\n",
       "        <td>03</td>\n",
       "        <td>CS-I</td>\n",
       "        <td>03</td>\n",
       "    </tr>\n",
       "</table>"
      ],
      "text/plain": [
       "[('01', 'History', '02'), ('02', 'Calculus', '01'), ('03', 'CS-I', '03')]"
      ]
     },
     "execution_count": 8,
     "metadata": {},
     "output_type": "execute_result"
    }
   ],
   "source": [
    "# Check the code of each course\n",
    "%sql SELECT * FROM Course"
   ]
  },
  {
   "cell_type": "markdown",
   "id": "95c0d540-191c-4a07-89fd-e948b98ed2e9",
   "metadata": {},
   "source": [
    "## Temporary tables that will be used in the JOIN"
   ]
  },
  {
   "cell_type": "code",
   "execution_count": 9,
   "id": "eb0e6c6f-321c-4dd6-aa87-1349f41d5d57",
   "metadata": {},
   "outputs": [
    {
     "name": "stdout",
     "output_type": "stream",
     "text": [
      " * sqlite:///lab3.db\n",
      "Done.\n",
      "Done.\n",
      "Done.\n"
     ]
    },
    {
     "data": {
      "text/html": [
       "<table>\n",
       "    <tr>\n",
       "        <th>Sname</th>\n",
       "        <th>Calculus</th>\n",
       "        <th>History</th>\n",
       "    </tr>\n",
       "    <tr>\n",
       "        <td>Peter</td>\n",
       "        <td>90</td>\n",
       "        <td>80</td>\n",
       "    </tr>\n",
       "    <tr>\n",
       "        <td>Eda</td>\n",
       "        <td>87</td>\n",
       "        <td>76</td>\n",
       "    </tr>\n",
       "</table>"
      ],
      "text/plain": [
       "[('Peter', 90, 80), ('Eda', 87, 76)]"
      ]
     },
     "execution_count": 9,
     "metadata": {},
     "output_type": "execute_result"
    }
   ],
   "source": [
    "%%sql \n",
    "/* Creating temporary tables: one only for calculus scores and the other only for history scores */\n",
    "\n",
    "CREATE TEMPORARY TABLE temp_calculus as \n",
    "SELECT DISTINCT s.Sname, a.SId, a.score as Calculus\n",
    "FROM Student s, Grade a\n",
    "WHERE s.SId = a.SId AND a.CId = '02';\n",
    "\n",
    "CREATE TEMPORARY TABLE temp_history as \n",
    "SELECT DISTINCT s.Sname, g.SId, g.score as History \n",
    "FROM Student s, Grade g\n",
    "WHERE g.CId = '01';\n",
    "\n",
    "\n",
    "/* Joining both tables and selecting only the ones with Calculus score > than History */\n",
    "\n",
    "SELECT DISTINCT c.Sname, c.Calculus, h.History\n",
    "FROM temp_calculus c\n",
    "INNER JOIN \n",
    "(SELECT * FROM temp_history) AS h\n",
    "ON c.SId = h.SId\n",
    "WHERE Calculus > History;"
   ]
  },
  {
   "cell_type": "code",
   "execution_count": 10,
   "id": "c8d78d67-13c0-4e4f-9394-d23651fd782c",
   "metadata": {},
   "outputs": [
    {
     "name": "stdout",
     "output_type": "stream",
     "text": [
      " * sqlite:///lab3.db\n",
      "Done.\n",
      "Done.\n"
     ]
    },
    {
     "data": {
      "text/plain": [
       "[]"
      ]
     },
     "execution_count": 10,
     "metadata": {},
     "output_type": "execute_result"
    }
   ],
   "source": [
    "%%sql\n",
    "DROP TABLE temp_calculus;\n",
    "DROP TABLE temp_history"
   ]
  },
  {
   "cell_type": "markdown",
   "id": "be0d00f8-2f3a-4d6d-951b-846392534f25",
   "metadata": {},
   "source": [
    "# Q03: Find the students, who earned a more than 70 average grade across all the courses he/she has taken."
   ]
  },
  {
   "cell_type": "code",
   "execution_count": 70,
   "id": "43963c82-78f0-4d8c-b569-f79773841b0f",
   "metadata": {},
   "outputs": [
    {
     "name": "stdout",
     "output_type": "stream",
     "text": [
      " * sqlite:///lab3.db\n",
      "Done.\n"
     ]
    },
    {
     "data": {
      "text/html": [
       "<table>\n",
       "    <tr>\n",
       "        <th>Sname</th>\n",
       "        <th>ROUND(AVG(score),1)</th>\n",
       "    </tr>\n",
       "    <tr>\n",
       "        <td>Peter</td>\n",
       "        <td>89.7</td>\n",
       "    </tr>\n",
       "    <tr>\n",
       "        <td>Lee</td>\n",
       "        <td>80.0</td>\n",
       "    </tr>\n",
       "    <tr>\n",
       "        <td>Eda</td>\n",
       "        <td>81.5</td>\n",
       "    </tr>\n",
       "    <tr>\n",
       "        <td>Silas</td>\n",
       "        <td>93.5</td>\n",
       "    </tr>\n",
       "</table>"
      ],
      "text/plain": [
       "[('Peter', 89.7), ('Lee', 80.0), ('Eda', 81.5), ('Silas', 93.5)]"
      ]
     },
     "execution_count": 70,
     "metadata": {},
     "output_type": "execute_result"
    }
   ],
   "source": [
    "%%sql\n",
    "\n",
    "SELECT s.Sname, ROUND(AVG(score),1)\n",
    "FROM Student s, Grade g\n",
    "WHERE s.SId = g.SId\n",
    "GROUP BY g.SId\n",
    "HAVING AVG(score) > 70"
   ]
  },
  {
   "cell_type": "markdown",
   "id": "d8117d2a-557d-452c-8ddf-35d80026534b",
   "metadata": {},
   "source": [
    "# Q04: Find the students that did not take any courses taught by Professor Everett."
   ]
  },
  {
   "cell_type": "code",
   "execution_count": 21,
   "id": "037c0e5d-1777-47a2-98c3-c4608b52b979",
   "metadata": {},
   "outputs": [
    {
     "name": "stdout",
     "output_type": "stream",
     "text": [
      " * sqlite:///lab3.db\n",
      "Done.\n"
     ]
    },
    {
     "data": {
      "text/html": [
       "<table>\n",
       "    <tr>\n",
       "        <th>PId</th>\n",
       "        <th>Pname</th>\n",
       "    </tr>\n",
       "    <tr>\n",
       "        <td>01</td>\n",
       "        <td>Everett</td>\n",
       "    </tr>\n",
       "    <tr>\n",
       "        <td>02</td>\n",
       "        <td>Miles</td>\n",
       "    </tr>\n",
       "    <tr>\n",
       "        <td>03</td>\n",
       "        <td>June</td>\n",
       "    </tr>\n",
       "</table>"
      ],
      "text/plain": [
       "[('01', 'Everett'), ('02', 'Miles'), ('03', 'June')]"
      ]
     },
     "execution_count": 21,
     "metadata": {},
     "output_type": "execute_result"
    }
   ],
   "source": [
    "%%sql\n",
    "/*Find the PId from each instructor*/\n",
    "SELECT * FROM Instructor "
   ]
  },
  {
   "cell_type": "code",
   "execution_count": 14,
   "id": "49af409d-6ed8-491f-aaf2-ab4234f2e506",
   "metadata": {},
   "outputs": [
    {
     "name": "stdout",
     "output_type": "stream",
     "text": [
      " * sqlite:///lab3.db\n",
      "Done.\n"
     ]
    },
    {
     "data": {
      "text/html": [
       "<table>\n",
       "    <tr>\n",
       "        <th>Sname</th>\n",
       "    </tr>\n",
       "    <tr>\n",
       "        <td>Eloise</td>\n",
       "    </tr>\n",
       "</table>"
      ],
      "text/plain": [
       "[('Eloise',)]"
      ]
     },
     "execution_count": 14,
     "metadata": {},
     "output_type": "execute_result"
    }
   ],
   "source": [
    "%%sql\n",
    "SELECT DISTINCT s.Sname\n",
    "FROM Student s, Course c, Grade g\n",
    "WHERE s.SId = g.SId AND c.CId = g.CId\n",
    "AND g.SId NOT IN(\n",
    "    SELECT g1.SId\n",
    "    FROM Grade g1, Course c1\n",
    "    WHERE g1.CId = c1.CId AND c1.PId = '01')"
   ]
  },
  {
   "cell_type": "markdown",
   "id": "96219fb2-0ff8-49bb-abd9-5dd1c7c68fc4",
   "metadata": {},
   "source": [
    "# Q05: Find the students, who took the course Calculus and have earned a grade, at least, higher than all students who took History course. Return the results in a descending order of grade."
   ]
  },
  {
   "cell_type": "code",
   "execution_count": 38,
   "id": "c67961ee-b3a3-4fe3-befc-f7823e8543d7",
   "metadata": {},
   "outputs": [
    {
     "name": "stdout",
     "output_type": "stream",
     "text": [
      " * sqlite:///lab3.db\n",
      "Done.\n"
     ]
    },
    {
     "data": {
      "text/html": [
       "<table>\n",
       "    <tr>\n",
       "        <th>Sname</th>\n",
       "        <th>score</th>\n",
       "    </tr>\n",
       "    <tr>\n",
       "        <td>Peter</td>\n",
       "        <td>90</td>\n",
       "    </tr>\n",
       "    <tr>\n",
       "        <td>Silas</td>\n",
       "        <td>89</td>\n",
       "    </tr>\n",
       "    <tr>\n",
       "        <td>Eda</td>\n",
       "        <td>87</td>\n",
       "    </tr>\n",
       "</table>"
      ],
      "text/plain": [
       "[('Peter', 90), ('Silas', 89), ('Eda', 87)]"
      ]
     },
     "execution_count": 38,
     "metadata": {},
     "output_type": "execute_result"
    }
   ],
   "source": [
    "%%sql\n",
    "SELECT s.Sname, g.score\n",
    "FROM Student s, Grade g, Course c\n",
    "WHERE s.SId = g.SId AND g.CId = c.CId \n",
    "AND c.Cname = 'Calculus' AND g.score > (\n",
    "    SELECT MAX(g1.score) as maxHistScore\n",
    "    FROM Grade g1, Course c1\n",
    "    WHERE g1.CId = c1.CId AND c1.Cname = 'History'\n",
    "    ORDER BY score DESC)\n",
    "ORDER BY score DESC;"
   ]
  },
  {
   "cell_type": "code",
   "execution_count": 34,
   "id": "12148c96-639e-46c5-b7ce-989f90356c50",
   "metadata": {},
   "outputs": [
    {
     "name": "stdout",
     "output_type": "stream",
     "text": [
      " * sqlite:///lab3.db\n",
      "Done.\n"
     ]
    },
    {
     "data": {
      "text/html": [
       "<table>\n",
       "    <tr>\n",
       "        <th>maxHistScore</th>\n",
       "    </tr>\n",
       "    <tr>\n",
       "        <td>80</td>\n",
       "    </tr>\n",
       "</table>"
      ],
      "text/plain": [
       "[(80,)]"
      ]
     },
     "execution_count": 34,
     "metadata": {},
     "output_type": "execute_result"
    }
   ],
   "source": [
    "%%sql\n",
    "/* This query is part of the query above: it select the MAX grade from the History course. If we take the MAX off, it shows all grades */\n",
    "SELECT MAX(g.score) as maxHistScore\n",
    "FROM Grade g, Course c\n",
    "WHERE g.CId = c.CId AND c.Cname = 'History'\n",
    "ORDER BY score DESC; "
   ]
  },
  {
   "cell_type": "code",
   "execution_count": 39,
   "id": "cc9c858e-879d-4f70-8d33-948621a325b4",
   "metadata": {},
   "outputs": [
    {
     "name": "stdout",
     "output_type": "stream",
     "text": [
      " * sqlite:///lab3.db\n",
      "Done.\n"
     ]
    },
    {
     "data": {
      "text/html": [
       "<table>\n",
       "    <tr>\n",
       "        <th>Sname</th>\n",
       "        <th>Cname</th>\n",
       "        <th>score</th>\n",
       "    </tr>\n",
       "    <tr>\n",
       "        <td>Peter</td>\n",
       "        <td>Calculus</td>\n",
       "        <td>90</td>\n",
       "    </tr>\n",
       "    <tr>\n",
       "        <td>Silas</td>\n",
       "        <td>Calculus</td>\n",
       "        <td>89</td>\n",
       "    </tr>\n",
       "    <tr>\n",
       "        <td>Eda</td>\n",
       "        <td>Calculus</td>\n",
       "        <td>87</td>\n",
       "    </tr>\n",
       "    <tr>\n",
       "        <td>Lee</td>\n",
       "        <td>Calculus</td>\n",
       "        <td>80</td>\n",
       "    </tr>\n",
       "    <tr>\n",
       "        <td>Sam</td>\n",
       "        <td>Calculus</td>\n",
       "        <td>60</td>\n",
       "    </tr>\n",
       "    <tr>\n",
       "        <td>June</td>\n",
       "        <td>Calculus</td>\n",
       "        <td>30</td>\n",
       "    </tr>\n",
       "</table>"
      ],
      "text/plain": [
       "[('Peter', 'Calculus', 90),\n",
       " ('Silas', 'Calculus', 89),\n",
       " ('Eda', 'Calculus', 87),\n",
       " ('Lee', 'Calculus', 80),\n",
       " ('Sam', 'Calculus', 60),\n",
       " ('June', 'Calculus', 30)]"
      ]
     },
     "execution_count": 39,
     "metadata": {},
     "output_type": "execute_result"
    }
   ],
   "source": [
    "%%sql\n",
    "/* In case you want to check all scores of a certain course, or any other filter*/\n",
    "SELECT s.Sname, c.Cname, g.score\n",
    "FROM Student s, Course c, Grade g\n",
    "WHERE s.SId = g.SId AND c.CId = g.CId and Cname = 'Calculus'\n",
    "ORDER BY score DESC"
   ]
  },
  {
   "cell_type": "markdown",
   "id": "b1fab0d5-008e-46fb-8130-0c6393bd903a",
   "metadata": {},
   "source": [
    "# Q06: Find the students, who did not take all the courses as presented in the Course table."
   ]
  },
  {
   "cell_type": "code",
   "execution_count": 53,
   "id": "ba42a6c7-2464-4181-ac32-1388d6af25a7",
   "metadata": {},
   "outputs": [
    {
     "name": "stdout",
     "output_type": "stream",
     "text": [
      " * sqlite:///lab3.db\n",
      "Done.\n"
     ]
    },
    {
     "data": {
      "text/html": [
       "<table>\n",
       "    <tr>\n",
       "        <th>Sname</th>\n",
       "        <th>coursesTaken</th>\n",
       "    </tr>\n",
       "    <tr>\n",
       "        <td>Eda</td>\n",
       "        <td>2</td>\n",
       "    </tr>\n",
       "    <tr>\n",
       "        <td>Eloise</td>\n",
       "        <td>2</td>\n",
       "    </tr>\n",
       "    <tr>\n",
       "        <td>Silas</td>\n",
       "        <td>2</td>\n",
       "    </tr>\n",
       "</table>"
      ],
      "text/plain": [
       "[('Eda', 2), ('Eloise', 2), ('Silas', 2)]"
      ]
     },
     "execution_count": 53,
     "metadata": {},
     "output_type": "execute_result"
    }
   ],
   "source": [
    "%%sql\n",
    "SELECT s.Sname, COUNT(g.CId) as coursesTaken\n",
    "FROM Student s, Grade g\n",
    "WHERE s.SId = g.SId\n",
    "GROUP BY (s.Sname)\n",
    "HAVING COUNT(g.CId) < ( SELECT COUNT(c.Cname) as countCourses FROM Course c);\n"
   ]
  },
  {
   "cell_type": "code",
   "execution_count": 52,
   "id": "61391306-22f8-4dd8-8dec-f51e7a973361",
   "metadata": {},
   "outputs": [
    {
     "name": "stdout",
     "output_type": "stream",
     "text": [
      " * sqlite:///lab3.db\n",
      "Done.\n"
     ]
    },
    {
     "data": {
      "text/html": [
       "<table>\n",
       "    <tr>\n",
       "        <th>countCourses</th>\n",
       "    </tr>\n",
       "    <tr>\n",
       "        <td>3</td>\n",
       "    </tr>\n",
       "</table>"
      ],
      "text/plain": [
       "[(3,)]"
      ]
     },
     "execution_count": 52,
     "metadata": {},
     "output_type": "execute_result"
    }
   ],
   "source": [
    "%%sql\n",
    "/* This query is part of the query above: it COUNTS the number of courses of table COURSES */\n",
    "SELECT COUNT(c.Cname) as countCourses\n",
    "FROM Course c ;"
   ]
  },
  {
   "cell_type": "code",
   "execution_count": 56,
   "id": "1161e837-0f71-4710-a38a-9da81868c032",
   "metadata": {},
   "outputs": [
    {
     "name": "stdout",
     "output_type": "stream",
     "text": [
      " * sqlite:///lab3.db\n",
      "Done.\n"
     ]
    },
    {
     "data": {
      "text/html": [
       "<table>\n",
       "    <tr>\n",
       "        <th>Sname</th>\n",
       "        <th>coursesTaken</th>\n",
       "    </tr>\n",
       "    <tr>\n",
       "        <td>Eda</td>\n",
       "        <td>2</td>\n",
       "    </tr>\n",
       "    <tr>\n",
       "        <td>Eloise</td>\n",
       "        <td>2</td>\n",
       "    </tr>\n",
       "    <tr>\n",
       "        <td>June</td>\n",
       "        <td>3</td>\n",
       "    </tr>\n",
       "    <tr>\n",
       "        <td>Lee</td>\n",
       "        <td>3</td>\n",
       "    </tr>\n",
       "    <tr>\n",
       "        <td>Peter</td>\n",
       "        <td>3</td>\n",
       "    </tr>\n",
       "    <tr>\n",
       "        <td>Sam</td>\n",
       "        <td>3</td>\n",
       "    </tr>\n",
       "    <tr>\n",
       "        <td>Silas</td>\n",
       "        <td>2</td>\n",
       "    </tr>\n",
       "</table>"
      ],
      "text/plain": [
       "[('Eda', 2),\n",
       " ('Eloise', 2),\n",
       " ('June', 3),\n",
       " ('Lee', 3),\n",
       " ('Peter', 3),\n",
       " ('Sam', 3),\n",
       " ('Silas', 2)]"
      ]
     },
     "execution_count": 56,
     "metadata": {},
     "output_type": "execute_result"
    }
   ],
   "source": [
    "%%sql\n",
    "/* This query is part of the query above: it shows the number of courses taken by each student */\n",
    "SELECT s.Sname, COUNT(g.CId) as coursesTaken\n",
    "FROM Student s, Grade g\n",
    "WHERE s.SId = g.SId\n",
    "GROUP BY (s.Sname)"
   ]
  },
  {
   "cell_type": "markdown",
   "id": "b172dc4b-d1c5-48e6-a959-10fa953fa061",
   "metadata": {},
   "source": [
    "# Q07: Calculate the average grades for Male and Female students."
   ]
  },
  {
   "cell_type": "code",
   "execution_count": 16,
   "id": "fd4d489b-8df4-4430-8618-b0a6555e8326",
   "metadata": {},
   "outputs": [
    {
     "name": "stdout",
     "output_type": "stream",
     "text": [
      " * sqlite:///lab3.db\n",
      "Done.\n"
     ]
    },
    {
     "data": {
      "text/html": [
       "<table>\n",
       "    <tr>\n",
       "        <th>Sgender</th>\n",
       "        <th>avgGrade</th>\n",
       "    </tr>\n",
       "    <tr>\n",
       "        <td>F</td>\n",
       "        <td>69.17</td>\n",
       "    </tr>\n",
       "    <tr>\n",
       "        <td>M</td>\n",
       "        <td>68.25</td>\n",
       "    </tr>\n",
       "</table>"
      ],
      "text/plain": [
       "[('F', 69.17), ('M', 68.25)]"
      ]
     },
     "execution_count": 16,
     "metadata": {},
     "output_type": "execute_result"
    }
   ],
   "source": [
    "%%sql\n",
    "SELECT s.Sgender, ROUND(AVG(g.score),2) as avgGrade\n",
    "FROM Student s, Grade g\n",
    "WHERE s.SId = g.SId\n",
    "GROUP BY s.Sgender"
   ]
  },
  {
   "cell_type": "markdown",
   "id": "2fc6c2ae-e4bf-4191-83a3-ea0fcb034841",
   "metadata": {},
   "source": [
    "# Q08: Find the courses with highest enrollment."
   ]
  },
  {
   "cell_type": "code",
   "execution_count": 22,
   "id": "35beef9d-d881-4a45-94ef-9ef2e1b8e95d",
   "metadata": {},
   "outputs": [
    {
     "name": "stdout",
     "output_type": "stream",
     "text": [
      " * sqlite:///lab3.db\n",
      "Done.\n"
     ]
    },
    {
     "data": {
      "text/html": [
       "<table>\n",
       "    <tr>\n",
       "        <th>CId</th>\n",
       "        <th>studentEnrolled</th>\n",
       "    </tr>\n",
       "    <tr>\n",
       "        <td>03</td>\n",
       "        <td>6</td>\n",
       "    </tr>\n",
       "    <tr>\n",
       "        <td>02</td>\n",
       "        <td>6</td>\n",
       "    </tr>\n",
       "    <tr>\n",
       "        <td>01</td>\n",
       "        <td>6</td>\n",
       "    </tr>\n",
       "</table>"
      ],
      "text/plain": [
       "[('03', 6), ('02', 6), ('01', 6)]"
      ]
     },
     "execution_count": 22,
     "metadata": {},
     "output_type": "execute_result"
    }
   ],
   "source": [
    "%%sql\n",
    "SELECT g.CId, COUNT(g.SId) as studentEnrolled\n",
    "FROM Grade g\n",
    "GROUP BY g.CId\n",
    "ORDER BY studentEnrolled DESC;"
   ]
  },
  {
   "cell_type": "code",
   "execution_count": 18,
   "id": "be4cd485-7c4f-47d1-8833-e69960aec1cf",
   "metadata": {},
   "outputs": [
    {
     "name": "stdout",
     "output_type": "stream",
     "text": [
      " * sqlite:///lab3.db\n",
      "Done.\n"
     ]
    },
    {
     "data": {
      "text/html": [
       "<table>\n",
       "    <tr>\n",
       "        <th>CId</th>\n",
       "        <th>studentEnrolled</th>\n",
       "    </tr>\n",
       "    <tr>\n",
       "        <td>03</td>\n",
       "        <td>6</td>\n",
       "    </tr>\n",
       "    <tr>\n",
       "        <td>02</td>\n",
       "        <td>6</td>\n",
       "    </tr>\n",
       "    <tr>\n",
       "        <td>01</td>\n",
       "        <td>6</td>\n",
       "    </tr>\n",
       "</table>"
      ],
      "text/plain": [
       "[('03', 6), ('02', 6), ('01', 6)]"
      ]
     },
     "execution_count": 18,
     "metadata": {},
     "output_type": "execute_result"
    }
   ],
   "source": [
    "%%sql\n",
    "SELECT g.CId, COUNT(g.SId) as studentEnrolled\n",
    "FROM Grade g\n",
    "GROUP BY g.CId\n",
    "ORDER BY studentEnrolled DESC;"
   ]
  },
  {
   "cell_type": "markdown",
   "id": "2c5f38f1-319c-4535-99f6-e54509648f41",
   "metadata": {},
   "source": [
    "# Q09: For each course, find the students who earned more than its average grade."
   ]
  },
  {
   "cell_type": "markdown",
   "id": "9e8fce10-771d-4e30-9fd5-22a4082ee820",
   "metadata": {},
   "source": [
    "## First, I will build a temporary table with the avg score per course. Then I use this table in the complete query"
   ]
  },
  {
   "cell_type": "code",
   "execution_count": 93,
   "id": "04dc2db5-b94f-476c-ada1-fcf6d3c6d64e",
   "metadata": {},
   "outputs": [
    {
     "name": "stdout",
     "output_type": "stream",
     "text": [
      " * sqlite:///lab3.db\n",
      "Done.\n"
     ]
    },
    {
     "data": {
      "text/plain": [
       "[]"
      ]
     },
     "execution_count": 93,
     "metadata": {},
     "output_type": "execute_result"
    }
   ],
   "source": [
    "%%sql\n",
    "CREATE TEMPORARY TABLE temp_avgScore as \n",
    "SELECT c.Cname, ROUND(AVG(g.score),1) as avgScore\n",
    "FROM Course c, Grade g\n",
    "WHERE c.CId = g.CId\n",
    "GROUP BY g.CId;"
   ]
  },
  {
   "cell_type": "code",
   "execution_count": 94,
   "id": "de98950b-e609-4f4f-bb87-92f66aad543c",
   "metadata": {},
   "outputs": [
    {
     "name": "stdout",
     "output_type": "stream",
     "text": [
      " * sqlite:///lab3.db\n",
      "Done.\n"
     ]
    },
    {
     "data": {
      "text/html": [
       "<table>\n",
       "    <tr>\n",
       "        <th>Sname</th>\n",
       "        <th>Cname</th>\n",
       "        <th>score</th>\n",
       "    </tr>\n",
       "    <tr>\n",
       "        <td>Peter</td>\n",
       "        <td>CS-I</td>\n",
       "        <td>99.0</td>\n",
       "    </tr>\n",
       "    <tr>\n",
       "        <td>Sam</td>\n",
       "        <td>CS-I</td>\n",
       "        <td>80.0</td>\n",
       "    </tr>\n",
       "    <tr>\n",
       "        <td>Lee</td>\n",
       "        <td>CS-I</td>\n",
       "        <td>80.0</td>\n",
       "    </tr>\n",
       "    <tr>\n",
       "        <td>Silas</td>\n",
       "        <td>CS-I</td>\n",
       "        <td>98.0</td>\n",
       "    </tr>\n",
       "    <tr>\n",
       "        <td>Peter</td>\n",
       "        <td>Calculus</td>\n",
       "        <td>90.0</td>\n",
       "    </tr>\n",
       "    <tr>\n",
       "        <td>Lee</td>\n",
       "        <td>Calculus</td>\n",
       "        <td>80.0</td>\n",
       "    </tr>\n",
       "    <tr>\n",
       "        <td>Eda</td>\n",
       "        <td>Calculus</td>\n",
       "        <td>87.0</td>\n",
       "    </tr>\n",
       "    <tr>\n",
       "        <td>Silas</td>\n",
       "        <td>Calculus</td>\n",
       "        <td>89.0</td>\n",
       "    </tr>\n",
       "    <tr>\n",
       "        <td>Peter</td>\n",
       "        <td>History</td>\n",
       "        <td>80.0</td>\n",
       "    </tr>\n",
       "    <tr>\n",
       "        <td>Sam</td>\n",
       "        <td>History</td>\n",
       "        <td>70.0</td>\n",
       "    </tr>\n",
       "    <tr>\n",
       "        <td>Lee</td>\n",
       "        <td>History</td>\n",
       "        <td>80.0</td>\n",
       "    </tr>\n",
       "    <tr>\n",
       "        <td>Eda</td>\n",
       "        <td>History</td>\n",
       "        <td>76.0</td>\n",
       "    </tr>\n",
       "</table>"
      ],
      "text/plain": [
       "[('Peter', 'CS-I', 99.0),\n",
       " ('Sam', 'CS-I', 80.0),\n",
       " ('Lee', 'CS-I', 80.0),\n",
       " ('Silas', 'CS-I', 98.0),\n",
       " ('Peter', 'Calculus', 90.0),\n",
       " ('Lee', 'Calculus', 80.0),\n",
       " ('Eda', 'Calculus', 87.0),\n",
       " ('Silas', 'Calculus', 89.0),\n",
       " ('Peter', 'History', 80.0),\n",
       " ('Sam', 'History', 70.0),\n",
       " ('Lee', 'History', 80.0),\n",
       " ('Eda', 'History', 76.0)]"
      ]
     },
     "execution_count": 94,
     "metadata": {},
     "output_type": "execute_result"
    }
   ],
   "source": [
    "%%sql\n",
    "SELECT DISTINCT s.Sname, c.Cname, ROUND(g.score,1) as score\n",
    "FROM Student s, Grade g, Course c, temp_avgScore t\n",
    "WHERE s.SId = g.SId AND g.CId = c.CId AND g.score > t.avgScore\n",
    "ORDER BY c.Cname;"
   ]
  },
  {
   "cell_type": "code",
   "execution_count": 92,
   "id": "cad34283-8c22-4145-967d-f2004d287385",
   "metadata": {},
   "outputs": [
    {
     "name": "stdout",
     "output_type": "stream",
     "text": [
      " * sqlite:///lab3.db\n",
      "Done.\n"
     ]
    },
    {
     "data": {
      "text/plain": [
       "[]"
      ]
     },
     "execution_count": 92,
     "metadata": {},
     "output_type": "execute_result"
    }
   ],
   "source": [
    "%%sql\n",
    "DROP TABLE temp_avgScore;"
   ]
  },
  {
   "cell_type": "code",
   "execution_count": 101,
   "id": "3f518d00-461b-4682-b4b6-5a675b59a401",
   "metadata": {},
   "outputs": [
    {
     "name": "stdout",
     "output_type": "stream",
     "text": [
      " * sqlite:///lab3.db\n",
      "Done.\n"
     ]
    },
    {
     "data": {
      "text/html": [
       "<table>\n",
       "    <tr>\n",
       "        <th>Cname</th>\n",
       "        <th>avgScore</th>\n",
       "    </tr>\n",
       "    <tr>\n",
       "        <td>History</td>\n",
       "        <td>64.5</td>\n",
       "    </tr>\n",
       "    <tr>\n",
       "        <td>Calculus</td>\n",
       "        <td>72.7</td>\n",
       "    </tr>\n",
       "    <tr>\n",
       "        <td>CS-I</td>\n",
       "        <td>68.5</td>\n",
       "    </tr>\n",
       "</table>"
      ],
      "text/plain": [
       "[('History', 64.5), ('Calculus', 72.7), ('CS-I', 68.5)]"
      ]
     },
     "execution_count": 101,
     "metadata": {},
     "output_type": "execute_result"
    }
   ],
   "source": [
    "%%sql\n",
    "/*Checking the values of the AVG per Course table*/\n",
    "SELECT c.Cname, ROUND(AVG(g.score),1) as avgScore\n",
    "FROM Course c, Grade g\n",
    "WHERE c.CId = g.CId\n",
    "GROUP BY g.CId"
   ]
  },
  {
   "cell_type": "markdown",
   "id": "bf738576-3f6c-49a7-9679-8a49c84e73c4",
   "metadata": {},
   "source": [
    "# Q10: Please add a column \"GPA\" in the student table and calculate the GPA for each student. Based on the grade, >=90 is A (4.0), >=87 is A- (3.7), >=83 is B+ (3.3), >=80 is B (3.0), >=77 is B- (2.7), >=70 is C (2.0), <=70 and>60 is D (1.0) and <=60 is F (0).\n"
   ]
  },
  {
   "cell_type": "markdown",
   "id": "d8412522-8a8b-421f-b8e8-55ac3422276a",
   "metadata": {},
   "source": [
    "# First, I will create a temp table with each student's average score. Then I build a new attribute column, and update using CASE."
   ]
  },
  {
   "cell_type": "code",
   "execution_count": 130,
   "id": "757b534e-5a6f-435e-b245-94246f5230c9",
   "metadata": {},
   "outputs": [
    {
     "name": "stdout",
     "output_type": "stream",
     "text": [
      " * sqlite:///lab3.db\n",
      "Done.\n",
      "Done.\n",
      "Done.\n",
      "Done.\n"
     ]
    },
    {
     "data": {
      "text/html": [
       "<table>\n",
       "    <tr>\n",
       "        <th>Sname</th>\n",
       "        <th>avgScore</th>\n",
       "        <th>GPA</th>\n",
       "    </tr>\n",
       "    <tr>\n",
       "        <td>Silas</td>\n",
       "        <td>93.5</td>\n",
       "        <td>A (4.0)</td>\n",
       "    </tr>\n",
       "    <tr>\n",
       "        <td>Peter</td>\n",
       "        <td>89.7</td>\n",
       "        <td>A- (3.7)</td>\n",
       "    </tr>\n",
       "    <tr>\n",
       "        <td>Eda</td>\n",
       "        <td>81.5</td>\n",
       "        <td>B (3.0)</td>\n",
       "    </tr>\n",
       "    <tr>\n",
       "        <td>Lee</td>\n",
       "        <td>80.0</td>\n",
       "        <td>B- (2.7)</td>\n",
       "    </tr>\n",
       "    <tr>\n",
       "        <td>Sam</td>\n",
       "        <td>70.0</td>\n",
       "        <td>D (1.0)</td>\n",
       "    </tr>\n",
       "    <tr>\n",
       "        <td>June</td>\n",
       "        <td>33.3</td>\n",
       "        <td>F (0)</td>\n",
       "    </tr>\n",
       "    <tr>\n",
       "        <td>Eloise</td>\n",
       "        <td>32.5</td>\n",
       "        <td>F (0)</td>\n",
       "    </tr>\n",
       "</table>"
      ],
      "text/plain": [
       "[('Silas', 93.5, 'A (4.0)'),\n",
       " ('Peter', 89.7, 'A- (3.7)'),\n",
       " ('Eda', 81.5, 'B (3.0)'),\n",
       " ('Lee', 80.0, 'B- (2.7)'),\n",
       " ('Sam', 70.0, 'D (1.0)'),\n",
       " ('June', 33.3, 'F (0)'),\n",
       " ('Eloise', 32.5, 'F (0)')]"
      ]
     },
     "execution_count": 130,
     "metadata": {},
     "output_type": "execute_result"
    }
   ],
   "source": [
    "%%sql \n",
    "/* ========= TEMPORARY TABLE  =============*/\n",
    "CREATE TEMPORARY TABLE temp_gpa as \n",
    "SELECT s.Sname, ROUND(AVG(g.score),1) as avgScore\n",
    "FROM Student s, Grade g\n",
    "WHERE s.SId = g.SId\n",
    "GROUP BY s.Sname\n",
    "ORDER BY avgScore DESC;\n",
    "\n",
    "/* ========= ADD a NEW COLUMN on a table =============*/\n",
    "ALTER TABLE temp_gpa\n",
    "ADD 'GPA' FLOAT;\n",
    "\n",
    "/* ========= UPDATE this new column with gpa values ========= */\n",
    "UPDATE temp_gpa\n",
    "set GPA = (CASE\n",
    "           WHEN avgScore > 90\n",
    "           THEN 'A (4.0)'\n",
    "           WHEN avgScore > 87\n",
    "           THEN 'A- (3.7)'\n",
    "           WHEN avgScore > 83\n",
    "           THEN 'B+ (3.3)'\n",
    "           WHEN avgSCore > 80\n",
    "           THEN 'B (3.0)'\n",
    "           WHEN avgSCore > 77\n",
    "           THEN 'B- (2.7)'\n",
    "           WHEN avgSCore > 70\n",
    "           THEN 'C (2.0)'\n",
    "           WHEN avgSCore > 60\n",
    "           THEN 'D (1.0)'\n",
    "           WHEN avgScore <= 60\n",
    "           THEN 'F (0)'\n",
    "           END);\n",
    "\n",
    "/* ========= Finally, output the final query ========= */\n",
    "SELECT * FROM temp_gpa;\n",
    "           "
   ]
  },
  {
   "cell_type": "code",
   "execution_count": 129,
   "id": "056e9369-6eda-4a8f-8da8-87c869470a9b",
   "metadata": {},
   "outputs": [
    {
     "name": "stdout",
     "output_type": "stream",
     "text": [
      " * sqlite:///lab3.db\n",
      "Done.\n"
     ]
    },
    {
     "data": {
      "text/plain": [
       "[]"
      ]
     },
     "execution_count": 129,
     "metadata": {},
     "output_type": "execute_result"
    }
   ],
   "source": [
    "%sql DROP TABLE temp_gpa;"
   ]
  },
  {
   "cell_type": "code",
   "execution_count": null,
   "id": "bdf6a117-83ae-421e-8b20-ed93c59fce6a",
   "metadata": {},
   "outputs": [],
   "source": [
    "%%sql \n",
    "SELECT s.sname\n",
    "FROM Sailors s, Reserves r\n",
    "WHERE s.sid = r.sid AND r.bid = 110"
   ]
  }
 ],
 "metadata": {
  "kernelspec": {
   "display_name": "Python [conda env:tensorFlow_env]",
   "language": "python",
   "name": "conda-env-tensorFlow_env-py"
  },
  "language_info": {
   "codemirror_mode": {
    "name": "ipython",
    "version": 3
   },
   "file_extension": ".py",
   "mimetype": "text/x-python",
   "name": "python",
   "nbconvert_exporter": "python",
   "pygments_lexer": "ipython3",
   "version": "3.9.12"
  }
 },
 "nbformat": 4,
 "nbformat_minor": 5
}
