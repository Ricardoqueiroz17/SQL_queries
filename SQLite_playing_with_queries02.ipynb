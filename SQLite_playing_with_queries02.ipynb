{
 "cells": [
  {
   "cell_type": "code",
   "execution_count": 1,
   "id": "a5e39aa4-d4de-4716-b6a8-333ce4477cfa",
   "metadata": {},
   "outputs": [],
   "source": [
    "# Importing the libraries\n",
    "import sqlite3\n",
    "import random"
   ]
  },
  {
   "cell_type": "code",
   "execution_count": 2,
   "id": "c19a5d0b-c81d-4778-b79b-0fc9cb4da053",
   "metadata": {},
   "outputs": [],
   "source": [
    "%load_ext sql"
   ]
  },
  {
   "cell_type": "markdown",
   "id": "0bf65d06-3c19-4b1a-b9ae-5a2f8442542a",
   "metadata": {},
   "source": [
    "# Building the database for this lab (lab4.db3)."
   ]
  },
  {
   "cell_type": "code",
   "execution_count": 3,
   "id": "5e236dae-a18a-451a-9fd1-058c1a84e462",
   "metadata": {},
   "outputs": [
    {
     "data": {
      "text/plain": [
       "<sqlite3.Connection at 0x206563e5210>"
      ]
     },
     "execution_count": 3,
     "metadata": {},
     "output_type": "execute_result"
    }
   ],
   "source": [
    "#Creating and connecting to a sqlite database\n",
    "sqlite3.connect(\"lab4.db3\") "
   ]
  },
  {
   "cell_type": "code",
   "execution_count": 4,
   "id": "45ba8629-b85e-4b66-bd3e-ed41ff88d342",
   "metadata": {},
   "outputs": [],
   "source": [
    "# Connecting to a sqlite database\n",
    "%sql sqlite:///lab4.db3 "
   ]
  },
  {
   "cell_type": "markdown",
   "id": "a0989022-59ad-4cf7-aed9-8291f1bcb6ae",
   "metadata": {},
   "source": [
    "# Q01. A is a superkey for a relation T (A, B, C, D)"
   ]
  },
  {
   "cell_type": "markdown",
   "id": "27a7c08f-4b89-410e-9b09-839aa8497d11",
   "metadata": {
    "tags": []
   },
   "source": [
    "#### Writting SQL statements to create the two tables \"T\" and insert the data. One table has the name Thold and the other is called TNOThold"
   ]
  },
  {
   "cell_type": "code",
   "execution_count": 5,
   "id": "f94a6cbe-49e9-4398-a6c1-7f7449f67d7e",
   "metadata": {},
   "outputs": [
    {
     "name": "stdout",
     "output_type": "stream",
     "text": [
      " * sqlite:///lab4.db3\n",
      "Done.\n",
      "Done.\n",
      "Done.\n",
      "Done.\n",
      "1 rows affected.\n",
      "1 rows affected.\n",
      "1 rows affected.\n",
      "1 rows affected.\n",
      "1 rows affected.\n",
      "1 rows affected.\n",
      "1 rows affected.\n",
      "1 rows affected.\n",
      "1 rows affected.\n",
      "1 rows affected.\n"
     ]
    },
    {
     "data": {
      "text/plain": [
       "[]"
      ]
     },
     "execution_count": 5,
     "metadata": {},
     "output_type": "execute_result"
    }
   ],
   "source": [
    "%%sql \n",
    "DROP TABLE IF EXISTS Thold;\n",
    "DROP TABLE IF EXISTS TNOThold;\n",
    "\n",
    "CREATE TABLE Thold(A CHAR(10), B CHAR(20), C CHAR(20), D CHAR(20));\n",
    "CREATE TABLE TNOThold(A CHAR(10), B CHAR(20), C CHAR(20), D CHAR(20));\n",
    "\n",
    "\n",
    "INSERT INTO Thold values(1,'Ricardo Cezar',10,35);\n",
    "INSERT INTO Thold values(2,'Kendrick Lamar',9,25);\n",
    "INSERT INTO Thold values(3,'Piau Abul',5,42);\n",
    "INSERT INTO Thold values(4,'Maria Paku',6,41);\n",
    "INSERT INTO Thold values(5,'Carla Dalanese',2,23);\n",
    "\n",
    "\n",
    "INSERT INTO TNOThold values(1,'Ricardo Cezar',10,35);\n",
    "INSERT INTO TNOThold values(1,'Ricardo Cezar',4345,2989);\n",
    "INSERT INTO TNOThold values(3,'Piau Abul',6,42);\n",
    "INSERT INTO TNOThold values(3,'George Bei',535,873);\n",
    "INSERT INTO TNOThold values(5,'Carla Dalanese',2,23);\n",
    "\n"
   ]
  },
  {
   "cell_type": "markdown",
   "id": "c0f650c4-ad0c-46ab-b15a-6be050bc0020",
   "metadata": {
    "tags": []
   },
   "source": [
    "#### Q01. Table where the condition holds (A is a superkey for the relation ABCD). "
   ]
  },
  {
   "cell_type": "code",
   "execution_count": 6,
   "id": "950df5c4-bff5-46bd-a327-10a69ddd3f2c",
   "metadata": {},
   "outputs": [
    {
     "name": "stdout",
     "output_type": "stream",
     "text": [
      " * sqlite:///lab4.db3\n",
      "Done.\n"
     ]
    },
    {
     "data": {
      "text/html": [
       "<table>\n",
       "    <tr>\n",
       "        <th>A</th>\n",
       "    </tr>\n",
       "</table>"
      ],
      "text/plain": [
       "[]"
      ]
     },
     "execution_count": 6,
     "metadata": {},
     "output_type": "execute_result"
    }
   ],
   "source": [
    "%%sql\n",
    "/* Here we can check that the result is an empty table, hence attribute A is a superkey of the table */\n",
    "SELECT DISTINCT t.A\n",
    "FROM Thold as t\n",
    "WHERE t.B NOT IN (\n",
    "    SELECT B\n",
    "    FROM Thold\n",
    "    GROUP BY A) \n",
    "OR t.C NOT IN (\n",
    "    SELECT C\n",
    "    FROM Thold\n",
    "    GROUP BY A)\n",
    "OR t.D NOT IN (\n",
    "    SELECT D\n",
    "    FROM Thold\n",
    "    GROUP BY A\n",
    "    )\n",
    "GROUP BY A;"
   ]
  },
  {
   "cell_type": "markdown",
   "id": "7f2f66bc-6b51-4aac-8edb-63fdb5f19b19",
   "metadata": {
    "tags": []
   },
   "source": [
    "#### Q01. Table where the condition DOES NOT hold (A is NOT a superkey for the relation ABCD)."
   ]
  },
  {
   "cell_type": "code",
   "execution_count": 7,
   "id": "aa7a2257-2dfe-43bb-ac17-0a42b27adef8",
   "metadata": {},
   "outputs": [
    {
     "name": "stdout",
     "output_type": "stream",
     "text": [
      " * sqlite:///lab4.db3\n",
      "Done.\n"
     ]
    },
    {
     "data": {
      "text/html": [
       "<table>\n",
       "    <tr>\n",
       "        <th>A</th>\n",
       "    </tr>\n",
       "    <tr>\n",
       "        <td>1</td>\n",
       "    </tr>\n",
       "    <tr>\n",
       "        <td>3</td>\n",
       "    </tr>\n",
       "</table>"
      ],
      "text/plain": [
       "[('1',), ('3',)]"
      ]
     },
     "execution_count": 7,
     "metadata": {},
     "output_type": "execute_result"
    }
   ],
   "source": [
    "%%sql\n",
    "/* Here we can check that there are some repetitive \"A\" attributes (A=1,A=3) for tuples that are not equal, hence A is NOT a superkey */\n",
    "SELECT DISTINCT t.A\n",
    "FROM TNOThold as t\n",
    "WHERE t.B NOT IN (\n",
    "    SELECT B\n",
    "    FROM TNOThold\n",
    "    GROUP BY A) \n",
    "OR t.C NOT IN (\n",
    "    SELECT C\n",
    "    FROM TNOThold\n",
    "    GROUP BY A)\n",
    "OR t.D NOT IN (\n",
    "    SELECT D\n",
    "    FROM TNOThold\n",
    "    GROUP BY A\n",
    "    )\n",
    "GROUP BY A;"
   ]
  },
  {
   "cell_type": "markdown",
   "id": "a5571942-8bbd-4398-80d3-680879177204",
   "metadata": {},
   "source": [
    "# Q02. The combinations of two attributes - (A,B) (B,C) - in the relation T (A, B, C, D) are each keys."
   ]
  },
  {
   "cell_type": "code",
   "execution_count": 8,
   "id": "14e917b6-3235-47e2-8c63-7236fd67e4fd",
   "metadata": {},
   "outputs": [
    {
     "name": "stdout",
     "output_type": "stream",
     "text": [
      " * sqlite:///lab4.db3\n",
      "Done.\n",
      "Done.\n",
      "Done.\n",
      "Done.\n",
      "1 rows affected.\n",
      "1 rows affected.\n",
      "1 rows affected.\n",
      "1 rows affected.\n",
      "1 rows affected.\n",
      "1 rows affected.\n",
      "1 rows affected.\n",
      "1 rows affected.\n",
      "1 rows affected.\n",
      "1 rows affected.\n"
     ]
    },
    {
     "data": {
      "text/plain": [
       "[]"
      ]
     },
     "execution_count": 8,
     "metadata": {},
     "output_type": "execute_result"
    }
   ],
   "source": [
    "%%sql \n",
    "/* Dropping the previous tables and creating new tables \"T\" for this question*/\n",
    "DROP TABLE IF EXISTS Thold;\n",
    "DROP TABLE IF EXISTS TNOThold;\n",
    "\n",
    "CREATE TABLE Thold(A CHAR(10), B CHAR(20), C CHAR(20), D CHAR(20));\n",
    "CREATE TABLE TNOThold(A CHAR(10), B CHAR(20), C CHAR(20), D CHAR(20));\n",
    "\n",
    "INSERT INTO Thold values(1,'Ricardo','Brazil','Sao Paulo');\n",
    "INSERT INTO Thold values(1,'Carl','USA','New York');\n",
    "INSERT INTO Thold values(2,'Ricardo','Mexico','Tihuana');\n",
    "INSERT INTO Thold values(2,'Maria','Spain','Madrid');\n",
    "INSERT INTO Thold values(5,'Maria','Italy','Rome');\n",
    "\n",
    "INSERT INTO TNOThold values(1,'Ricardo','Brazil','Sao Paulo');\n",
    "INSERT INTO TNOThold values(1,'Ricardo','Brazil','Rio De Janeiro');\n",
    "INSERT INTO TNOThold values(2,'Maria','Spain','Madrid');\n",
    "INSERT INTO TNOThold values(2,'Maria','Spain','Barcelona');\n",
    "INSERT INTO TNOThold values(5,'Carla','Italy','Rome');\n"
   ]
  },
  {
   "cell_type": "markdown",
   "id": "012e4673-ffe2-4ac7-ad76-e0ed4e6d52d1",
   "metadata": {
    "tags": []
   },
   "source": [
    "#### Q02. Table where the condition holds: (A,B) combination. "
   ]
  },
  {
   "cell_type": "code",
   "execution_count": 9,
   "id": "2bc7b327-73e6-4de3-8f2c-ea30ae9bb876",
   "metadata": {},
   "outputs": [
    {
     "name": "stdout",
     "output_type": "stream",
     "text": [
      " * sqlite:///lab4.db3\n",
      "Done.\n"
     ]
    },
    {
     "data": {
      "text/html": [
       "<table>\n",
       "    <tr>\n",
       "        <th>A</th>\n",
       "        <th>B</th>\n",
       "        <th>C</th>\n",
       "        <th>D</th>\n",
       "    </tr>\n",
       "</table>"
      ],
      "text/plain": [
       "[]"
      ]
     },
     "execution_count": 9,
     "metadata": {},
     "output_type": "execute_result"
    }
   ],
   "source": [
    "%%sql\n",
    "/* Whe can check that the result is an empty instance of the table. */\n",
    "SELECT DISTINCT t1.A, t1.B, t1.C, t1.D\n",
    "FROM Thold t1\n",
    "WHERE t1.C NOT IN(\n",
    "    SELECT DISTINCT t2.C\n",
    "    FROM Thold as t2\n",
    "    GROUP BY A,B) \n",
    "OR t1.D NOT IN(\n",
    "    SELECT DISTINCT t3.D\n",
    "    FROM Thold as t3\n",
    "    GROUP BY A,B)"
   ]
  },
  {
   "cell_type": "markdown",
   "id": "9296d07a-1444-43d7-bec4-4b3c01d1a2bf",
   "metadata": {
    "tags": []
   },
   "source": [
    "#### Q02. Table where the condition DOES NOT hold: (A,B) combination. "
   ]
  },
  {
   "cell_type": "code",
   "execution_count": 10,
   "id": "817b23be-3575-436e-8b39-579514f5a469",
   "metadata": {},
   "outputs": [
    {
     "name": "stdout",
     "output_type": "stream",
     "text": [
      " * sqlite:///lab4.db3\n",
      "Done.\n"
     ]
    },
    {
     "data": {
      "text/html": [
       "<table>\n",
       "    <tr>\n",
       "        <th>A</th>\n",
       "        <th>B</th>\n",
       "        <th>C</th>\n",
       "        <th>D</th>\n",
       "    </tr>\n",
       "    <tr>\n",
       "        <td>1</td>\n",
       "        <td>Ricardo</td>\n",
       "        <td>Brazil</td>\n",
       "        <td>Rio De Janeiro</td>\n",
       "    </tr>\n",
       "    <tr>\n",
       "        <td>2</td>\n",
       "        <td>Maria</td>\n",
       "        <td>Spain</td>\n",
       "        <td>Barcelona</td>\n",
       "    </tr>\n",
       "</table>"
      ],
      "text/plain": [
       "[('1', 'Ricardo', 'Brazil', 'Rio De Janeiro'),\n",
       " ('2', 'Maria', 'Spain', 'Barcelona')]"
      ]
     },
     "execution_count": 10,
     "metadata": {},
     "output_type": "execute_result"
    }
   ],
   "source": [
    "%%sql\n",
    "/* Whe can check that the result shows some tuples of the table. */\n",
    "SELECT DISTINCT t1.A, t1.B, t1.C, t1.D\n",
    "FROM TNOThold t1\n",
    "WHERE t1.C NOT IN(\n",
    "    SELECT DISTINCT t2.C\n",
    "    FROM TNOThold as t2\n",
    "    GROUP BY A,B) \n",
    "OR t1.D NOT IN(\n",
    "    SELECT DISTINCT t3.D\n",
    "    FROM TNOThold as t3\n",
    "    GROUP BY A,B)"
   ]
  },
  {
   "cell_type": "markdown",
   "id": "b48da140-fad1-4b13-be86-6a080c7780e8",
   "metadata": {
    "tags": []
   },
   "source": [
    "#### Q02. Table where the condition holds: (B,C) combination. "
   ]
  },
  {
   "cell_type": "code",
   "execution_count": 11,
   "id": "d23d462b-e2ad-4603-bc4d-3720b6a1833a",
   "metadata": {},
   "outputs": [
    {
     "name": "stdout",
     "output_type": "stream",
     "text": [
      " * sqlite:///lab4.db3\n",
      "Done.\n"
     ]
    },
    {
     "data": {
      "text/html": [
       "<table>\n",
       "    <tr>\n",
       "        <th>A</th>\n",
       "        <th>B</th>\n",
       "        <th>C</th>\n",
       "        <th>D</th>\n",
       "    </tr>\n",
       "</table>"
      ],
      "text/plain": [
       "[]"
      ]
     },
     "execution_count": 11,
     "metadata": {},
     "output_type": "execute_result"
    }
   ],
   "source": [
    "%%sql\n",
    "/* Whe can check that the result is an empty instance of the table. */\n",
    "SELECT DISTINCT t1.A, t1.B, t1.C, t1.D\n",
    "FROM Thold t1\n",
    "WHERE t1.A NOT IN(\n",
    "    SELECT DISTINCT t2.A\n",
    "    FROM Thold as t2\n",
    "    GROUP BY B,C) \n",
    "OR t1.D NOT IN(\n",
    "    SELECT DISTINCT t3.D\n",
    "    FROM Thold as t3\n",
    "    GROUP BY B,C)"
   ]
  },
  {
   "cell_type": "markdown",
   "id": "fb70452c-4dd6-4f2d-8259-67e21a1bbe2d",
   "metadata": {
    "tags": []
   },
   "source": [
    "#### Q02. Table where the condition DOES NOT hold: (B,C) combination."
   ]
  },
  {
   "cell_type": "code",
   "execution_count": 12,
   "id": "e6a07808-f7de-48d5-95f2-a51a111bcafc",
   "metadata": {},
   "outputs": [
    {
     "name": "stdout",
     "output_type": "stream",
     "text": [
      " * sqlite:///lab4.db3\n",
      "Done.\n"
     ]
    },
    {
     "data": {
      "text/html": [
       "<table>\n",
       "    <tr>\n",
       "        <th>A</th>\n",
       "        <th>B</th>\n",
       "        <th>C</th>\n",
       "        <th>D</th>\n",
       "    </tr>\n",
       "    <tr>\n",
       "        <td>1</td>\n",
       "        <td>Ricardo</td>\n",
       "        <td>Brazil</td>\n",
       "        <td>Rio De Janeiro</td>\n",
       "    </tr>\n",
       "    <tr>\n",
       "        <td>2</td>\n",
       "        <td>Maria</td>\n",
       "        <td>Spain</td>\n",
       "        <td>Barcelona</td>\n",
       "    </tr>\n",
       "</table>"
      ],
      "text/plain": [
       "[('1', 'Ricardo', 'Brazil', 'Rio De Janeiro'),\n",
       " ('2', 'Maria', 'Spain', 'Barcelona')]"
      ]
     },
     "execution_count": 12,
     "metadata": {},
     "output_type": "execute_result"
    }
   ],
   "source": [
    "%%sql\n",
    "/* Whe can check that the result shows some tuples of the table. */\n",
    "SELECT DISTINCT t1.A, t1.B, t1.C, t1.D\n",
    "FROM TNOThold t1\n",
    "WHERE t1.A NOT IN(\n",
    "    SELECT DISTINCT t2.A\n",
    "    FROM TNOThold as t2\n",
    "    GROUP BY B,C) \n",
    "OR t1.D NOT IN(\n",
    "    SELECT DISTINCT t3.D\n",
    "    FROM TNOThold as t3\n",
    "    GROUP BY B,C)"
   ]
  },
  {
   "cell_type": "markdown",
   "id": "957fdd8c-49b2-43b3-81fa-ea0b527621ac",
   "metadata": {},
   "source": [
    "# Q03. TGD in Sailors and Reserves"
   ]
  },
  {
   "cell_type": "code",
   "execution_count": 13,
   "id": "01375081-78ec-4272-b08c-8fde558ae7d8",
   "metadata": {},
   "outputs": [
    {
     "name": "stdout",
     "output_type": "stream",
     "text": [
      " * sqlite:///lab4.db3\n",
      "Done.\n",
      "Done.\n",
      "Done.\n",
      "Done.\n",
      "Done.\n",
      "Done.\n",
      "1 rows affected.\n",
      "1 rows affected.\n",
      "1 rows affected.\n",
      "1 rows affected.\n",
      "1 rows affected.\n",
      "1 rows affected.\n",
      "1 rows affected.\n",
      "1 rows affected.\n",
      "1 rows affected.\n",
      "1 rows affected.\n"
     ]
    },
    {
     "data": {
      "text/plain": [
       "[]"
      ]
     },
     "execution_count": 13,
     "metadata": {},
     "output_type": "execute_result"
    }
   ],
   "source": [
    "%%sql \n",
    "DROP TABLE IF EXISTS Sailors;\n",
    "DROP TABLE IF EXISTS Boats;\n",
    "DROP TABLE IF EXISTS Reserves;\n",
    "\n",
    "CREATE TABLE Sailors(sid CHAR(10), sname CHAR(20), rating INTEGER, age INTEGER,PRIMARY KEY(sid));\n",
    "CREATE TABLE Boats(bid CHAR(10), name CHAR(20), color CHAR(20), PRIMARY KEY(bid));\n",
    "CREATE TABLE Reserves(sid CHAR(10), bid CHAR(10),sname CHAR(30),bname CHAR(30), date TEXT, \n",
    "                      FOREIGN KEY(sid) REFERENCES Sailors(sid),\n",
    "                      FOREIGN KEY(bid) REFERENCES boats(bid));\n",
    "\n",
    "INSERT INTO Sailors values(1,'Ricardo Cezar',10,35);\n",
    "INSERT INTO Sailors values(2,'Kendrick Lamar',9,25);\n",
    "INSERT INTO Sailors values(3,'Piau Abul',5,42);\n",
    "INSERT INTO Sailors values(4,'Maria Paku',6,41);\n",
    "INSERT INTO Sailors values(5,'Carla Dalanese',2,23);\n",
    "\n",
    "INSERT INTO Reserves values(1,110,'Ricardo Cezar','Pearl','3/21/2018');\n",
    "INSERT INTO Reserves values(2,110,'Kendrick Lamar','Gift Ocean','5/16/2019');\n",
    "INSERT INTO Reserves values(3,110,'Piau Abul','Gift Ocean','2/1/2021');\n",
    "INSERT INTO Reserves values(4,111,'Maria Paku','Marvelous','7/1/2021');\n",
    "INSERT INTO Reserves values(5,112,'Carla Dalanese','Pearl','9/13/2020');\n"
   ]
  },
  {
   "cell_type": "markdown",
   "id": "172f0b05-fc5e-4ff6-ab20-2c3e76d568ca",
   "metadata": {},
   "source": [
    "#### Q03. Table where the condition holds: TGD between Sailors and Reserves. "
   ]
  },
  {
   "cell_type": "code",
   "execution_count": 14,
   "id": "0ed1503c-40d9-4359-b60c-51659c0b3cbc",
   "metadata": {},
   "outputs": [
    {
     "name": "stdout",
     "output_type": "stream",
     "text": [
      " * sqlite:///lab4.db3\n",
      "Done.\n"
     ]
    },
    {
     "data": {
      "text/html": [
       "<table>\n",
       "    <tr>\n",
       "        <th>sid</th>\n",
       "        <th>sname</th>\n",
       "    </tr>\n",
       "</table>"
      ],
      "text/plain": [
       "[]"
      ]
     },
     "execution_count": 14,
     "metadata": {},
     "output_type": "execute_result"
    }
   ],
   "source": [
    "%%sql \n",
    "SELECT DISTINCT s.sid, s.sname\n",
    "FROM Sailors s, Reserves r\n",
    "WHERE s.sid NOT IN(\n",
    "    SELECT DISTINCT r2.sid\n",
    "    FROM Reserves r2\n",
    ")"
   ]
  },
  {
   "cell_type": "markdown",
   "id": "1eee569c-4aa5-4a99-9a1f-b0800f923a44",
   "metadata": {},
   "source": [
    "#### Q03. Table where the condition DOES NOT hold: TGD between Sailors and Reserves. "
   ]
  },
  {
   "cell_type": "code",
   "execution_count": 15,
   "id": "54573740-de1c-4bb9-974e-fa3ace01a310",
   "metadata": {},
   "outputs": [
    {
     "name": "stdout",
     "output_type": "stream",
     "text": [
      " * sqlite:///lab4.db3\n",
      "Done.\n",
      "Done.\n",
      "Done.\n",
      "Done.\n",
      "Done.\n",
      "Done.\n",
      "1 rows affected.\n",
      "1 rows affected.\n",
      "1 rows affected.\n",
      "1 rows affected.\n",
      "1 rows affected.\n",
      "1 rows affected.\n",
      "1 rows affected.\n",
      "1 rows affected.\n",
      "1 rows affected.\n",
      "1 rows affected.\n",
      "1 rows affected.\n"
     ]
    },
    {
     "data": {
      "text/plain": [
       "[]"
      ]
     },
     "execution_count": 15,
     "metadata": {},
     "output_type": "execute_result"
    }
   ],
   "source": [
    "%%sql \n",
    "DROP TABLE IF EXISTS Sailors;\n",
    "DROP TABLE IF EXISTS Boats;\n",
    "DROP TABLE IF EXISTS Reserves;\n",
    "\n",
    "CREATE TABLE Sailors(sid CHAR(10), sname CHAR(20), rating INTEGER, age INTEGER,PRIMARY KEY(sid));\n",
    "CREATE TABLE Boats(bid CHAR(10), name CHAR(20), color CHAR(20), PRIMARY KEY(bid));\n",
    "CREATE TABLE Reserves(sid CHAR(10), bid CHAR(10),sname CHAR(30),bname CHAR(30), date TEXT, \n",
    "                      FOREIGN KEY(sid) REFERENCES Sailors(sid),\n",
    "                      FOREIGN KEY(bid) REFERENCES boats(bid));\n",
    "\n",
    "INSERT INTO Sailors values(1,'Ricardo Cezar',10,35);\n",
    "INSERT INTO Sailors values(2,'Kendrick Lamar',9,25);\n",
    "INSERT INTO Sailors values(3,'Piau Abul',5,42);\n",
    "INSERT INTO Sailors values(4,'Maria Paku',6,41);\n",
    "INSERT INTO Sailors values(5,'Carla Dalanese',2,23);\n",
    "INSERT INTO Sailors values(6,'Kendrick Lamar',52,87);\n",
    "\n",
    "INSERT INTO Reserves values(1,110,'Ricardo Cezar','Pearl','3/21/2018');\n",
    "INSERT INTO Reserves values(2,110,'Kendrick Lamar','Gift Ocean','5/16/2019');\n",
    "INSERT INTO Reserves values(3,110,'Piau Abul','Gift Ocean','2/1/2021');\n",
    "INSERT INTO Reserves values(4,111,'Maria Paku','Marvelous','7/1/2021');\n",
    "INSERT INTO Reserves values(5,112,'Carla Dalanese','Pearl','9/13/2020');"
   ]
  },
  {
   "cell_type": "code",
   "execution_count": 16,
   "id": "18950552-9e6a-461b-8930-e83513d88b41",
   "metadata": {},
   "outputs": [
    {
     "name": "stdout",
     "output_type": "stream",
     "text": [
      " * sqlite:///lab4.db3\n",
      "Done.\n"
     ]
    },
    {
     "data": {
      "text/html": [
       "<table>\n",
       "    <tr>\n",
       "        <th>sid</th>\n",
       "        <th>sname</th>\n",
       "    </tr>\n",
       "    <tr>\n",
       "        <td>6</td>\n",
       "        <td>Kendrick Lamar</td>\n",
       "    </tr>\n",
       "</table>"
      ],
      "text/plain": [
       "[('6', 'Kendrick Lamar')]"
      ]
     },
     "execution_count": 16,
     "metadata": {},
     "output_type": "execute_result"
    }
   ],
   "source": [
    "%%sql \n",
    "SELECT DISTINCT s.sid, s.sname\n",
    "FROM Sailors s, Reserves r\n",
    "WHERE s.sid NOT IN(\n",
    "    SELECT DISTINCT r2.sid\n",
    "    FROM Reserves r2\n",
    ")"
   ]
  },
  {
   "cell_type": "markdown",
   "id": "2e2297c7-9ea6-473c-a4d1-978c80e95325",
   "metadata": {},
   "source": [
    "# Q04. Multivalued Dependency (MVD): assume R = (A, B, C, D E), X = (A, B, C), Y = (C, D, E)"
   ]
  },
  {
   "cell_type": "markdown",
   "id": "7aea9746-8662-4556-a12e-605141ee00b8",
   "metadata": {},
   "source": [
    "#### Q04. Table where the condition holds: MVD between t1,t2 and t3. "
   ]
  },
  {
   "cell_type": "code",
   "execution_count": 17,
   "id": "cd8a5ce2-7a9a-4698-b0d3-4c27164743ba",
   "metadata": {},
   "outputs": [
    {
     "name": "stdout",
     "output_type": "stream",
     "text": [
      " * sqlite:///lab4.db3\n",
      "Done.\n",
      "Done.\n",
      "Done.\n",
      "Done.\n",
      "Done.\n",
      "Done.\n",
      "1 rows affected.\n",
      "1 rows affected.\n",
      "1 rows affected.\n",
      "1 rows affected.\n",
      "1 rows affected.\n",
      "1 rows affected.\n",
      "1 rows affected.\n",
      "1 rows affected.\n",
      "1 rows affected.\n",
      "1 rows affected.\n",
      "1 rows affected.\n",
      "1 rows affected.\n",
      "1 rows affected.\n",
      "1 rows affected.\n",
      "1 rows affected.\n"
     ]
    },
    {
     "data": {
      "text/plain": [
       "[]"
      ]
     },
     "execution_count": 17,
     "metadata": {},
     "output_type": "execute_result"
    }
   ],
   "source": [
    "%%sql \n",
    "DROP TABLE IF EXISTS R;\n",
    "DROP TABLE IF EXISTS X;\n",
    "DROP TABLE IF EXISTS Y;\n",
    "\n",
    "CREATE TABLE R(A CHAR(10), B CHAR(20), C CHAR(20), D CHAR(20),E char(20));\n",
    "CREATE TABLE X(A CHAR(10), B CHAR(20), C CHAR(20));\n",
    "CREATE TABLE Y(C CHAR(10), D CHAR(20), E CHAR(20));\n",
    "\n",
    "INSERT INTO R values(1,11,21,31,41);\n",
    "INSERT INTO R values(1,11,21,31,41);\n",
    "INSERT INTO R values(1,11,21,31,41);\n",
    "INSERT INTO R values(4,14,24,34,44);\n",
    "INSERT INTO R values(5,15,25,35,45);\n",
    "\n",
    "INSERT INTO X values(1,11,21);\n",
    "INSERT INTO X values(1,11,21);\n",
    "INSERT INTO X values(1,11,21);\n",
    "INSERT INTO X values(4,14,24);\n",
    "INSERT INTO X values(5,15,25);\n",
    "\n",
    "INSERT INTO Y values(21,31,41);\n",
    "INSERT INTO Y values(21,31,41);\n",
    "INSERT INTO Y values(21,31,41);\n",
    "INSERT INTO Y values(24,34,44);\n",
    "INSERT INTO Y values(25,35,45);"
   ]
  },
  {
   "cell_type": "code",
   "execution_count": 18,
   "id": "091f88b7-9fb2-433b-b467-a19c112d57a2",
   "metadata": {},
   "outputs": [
    {
     "name": "stdout",
     "output_type": "stream",
     "text": [
      " * sqlite:///lab4.db3\n",
      "Done.\n"
     ]
    },
    {
     "data": {
      "text/html": [
       "<table>\n",
       "    <tr>\n",
       "        <th>C</th>\n",
       "        <th>countA</th>\n",
       "    </tr>\n",
       "    <tr>\n",
       "        <td>21</td>\n",
       "        <td>3</td>\n",
       "    </tr>\n",
       "</table>"
      ],
      "text/plain": [
       "[('21', 3)]"
      ]
     },
     "execution_count": 18,
     "metadata": {},
     "output_type": "execute_result"
    }
   ],
   "source": [
    "%%sql\n",
    "SELECT x.C, COUNT(x.A) as countA\n",
    "FROM X x\n",
    "GROUP BY x.A\n",
    "HAVING countA > 1\n"
   ]
  },
  {
   "cell_type": "markdown",
   "id": "b4dc9ac1-ba30-449f-aded-b3b4ccae8dd0",
   "metadata": {},
   "source": [
    "#### Q04. Table where the condition DOES NOT hold: MVD between t1,t2 and t3. "
   ]
  },
  {
   "cell_type": "code",
   "execution_count": 19,
   "id": "b491f21e-cfef-45d8-841b-cf77b1679e84",
   "metadata": {},
   "outputs": [
    {
     "name": "stdout",
     "output_type": "stream",
     "text": [
      " * sqlite:///lab4.db3\n",
      "Done.\n",
      "Done.\n",
      "Done.\n",
      "Done.\n",
      "Done.\n",
      "Done.\n",
      "1 rows affected.\n",
      "1 rows affected.\n",
      "1 rows affected.\n",
      "1 rows affected.\n",
      "1 rows affected.\n",
      "1 rows affected.\n",
      "1 rows affected.\n",
      "1 rows affected.\n",
      "1 rows affected.\n",
      "1 rows affected.\n",
      "1 rows affected.\n",
      "1 rows affected.\n",
      "1 rows affected.\n",
      "1 rows affected.\n",
      "1 rows affected.\n"
     ]
    },
    {
     "data": {
      "text/plain": [
       "[]"
      ]
     },
     "execution_count": 19,
     "metadata": {},
     "output_type": "execute_result"
    }
   ],
   "source": [
    "%%sql \n",
    "DROP TABLE IF EXISTS R;\n",
    "DROP TABLE IF EXISTS X;\n",
    "DROP TABLE IF EXISTS Y;\n",
    "\n",
    "CREATE TABLE R(A CHAR(10), B CHAR(20), C CHAR(20), D CHAR(20),E char(20));\n",
    "CREATE TABLE X(A CHAR(10), B CHAR(20), C CHAR(20));\n",
    "CREATE TABLE Y(C CHAR(10), D CHAR(20), E CHAR(20));\n",
    "\n",
    "INSERT INTO R values(1,11,21,31,41);\n",
    "INSERT INTO R values(1,11,21,32,42);\n",
    "INSERT INTO R values(1,11,21,33,43);\n",
    "INSERT INTO R values(4,14,24,34,44);\n",
    "INSERT INTO R values(5,15,25,35,45);\n",
    "\n",
    "INSERT INTO X values(1,11,21);\n",
    "INSERT INTO X values(1,11,21);\n",
    "INSERT INTO X values(1,11,21);\n",
    "INSERT INTO X values(4,14,24);\n",
    "INSERT INTO X values(5,15,25);\n",
    "\n",
    "INSERT INTO Y values(21,31,41);\n",
    "INSERT INTO Y values(21,32,42);\n",
    "INSERT INTO Y values(21,33,43);\n",
    "INSERT INTO Y values(24,34,44);\n",
    "INSERT INTO Y values(25,35,45);"
   ]
  }
 ],
 "metadata": {
  "kernelspec": {
   "display_name": "Python [conda env:tensorFlow_env]",
   "language": "python",
   "name": "conda-env-tensorFlow_env-py"
  },
  "language_info": {
   "codemirror_mode": {
    "name": "ipython",
    "version": 3
   },
   "file_extension": ".py",
   "mimetype": "text/x-python",
   "name": "python",
   "nbconvert_exporter": "python",
   "pygments_lexer": "ipython3",
   "version": "3.9.12"
  }
 },
 "nbformat": 4,
 "nbformat_minor": 5
}
